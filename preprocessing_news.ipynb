{
  "cells": [
    {
      "cell_type": "code",
      "execution_count": 4,
      "id": "a06965bb",
      "metadata": {
        "id": "a06965bb"
      },
      "outputs": [],
      "source": [
        "import pandas as pd"
      ]
    },
    {
      "cell_type": "code",
      "execution_count": 5,
      "id": "10fbb4ef",
      "metadata": {
        "id": "10fbb4ef"
      },
      "outputs": [],
      "source": [
        "data = pd.read_csv('edit_tabnak_news.csv')"
      ]
    },
    {
      "cell_type": "code",
      "execution_count": 5,
      "id": "dd6f6302",
      "metadata": {
        "colab": {
          "base_uri": "https://localhost:8080/",
          "height": 423
        },
        "id": "dd6f6302",
        "outputId": "136ebb02-3725-4618-9102-59f86325c705"
      },
      "outputs": [
        {
          "data": {
            "application/vnd.google.colaboratory.intrinsic+json": {
              "summary": "{\n  \"name\": \"data\",\n  \"rows\": 7746,\n  \"fields\": [\n    {\n      \"column\": \"title\",\n      \"properties\": {\n        \"dtype\": \"string\",\n        \"num_unique_values\": 7674,\n        \"samples\": [\n          \"\\u0645\\u0627\\u062c\\u0631\\u0627\\u06cc \\u062f\\u0648 \\u062c\\u0648\\u0627\\u0646\\u06cc \\u06a9\\u0647 \\u0647\\u0646\\u06af\\u0627\\u0645 \\u062a\\u0648\\u0644\\u062f\\u060c \\u0639\\u0648\\u0636 \\u0634\\u062f\\u0647 \\u0628\\u0648\\u062f\\u0646\\u062f!\",\n          \"\\u0647\\u0627\\u0641\\u0628\\u06a9 \\u0631\\u0627\\u0647 \\u0622\\u0647\\u0646 \\u0628\\u0647 \\u062a\\u064a\\u0645 \\u0630\\u0648\\u0628 \\u0622\\u0647\\u0646 \\u067e\\u064a\\u0648\\u0633\\u062a\",\n          \"\\u062f\\u0631\\u0628\\u0627\\u0631\\u0647 \\u0645\\u0631\\u062f\\u06cc \\u06a9\\u0647 \\u0631\\u0624\\u06cc\\u0627\\u0647\\u0627\\u06cc\\u0634 \\u0635\\u0627\\u062f\\u0642 \\u0628\\u0648\\u062f \\u0648 \\u0646\\u0641\\u0633\\u0634 \\u062d\\u0642\"\n        ],\n        \"semantic_type\": \"\",\n        \"description\": \"\"\n      }\n    },\n    {\n      \"column\": \"lead\",\n      \"properties\": {\n        \"dtype\": \"string\",\n        \"num_unique_values\": 7687,\n        \"samples\": [\n          \"\\u0622\\u06cc\\u062a \\u0627\\u0644\\u0644\\u0647 \\u0645\\u062d\\u0645\\u0651\\u062f\\u06cc \\u0631\\u06cc \\u0634\\u0647\\u0631\\u06cc \\u06af\\u0641\\u062a: \\u0645\\u0628\\u0627\\u0631\\u0632\\u0647 \\u0628\\u0627 \\u0641\\u062a\\u0646\\u0647 \\u0647\\u0627\\u06cc \\u0633\\u06cc\\u0627\\u0633\\u06cc \\u0627\\u06af\\u0631 \\u0628\\u0631 \\u0627\\u0633\\u0627\\u0633 \\u0634\\u0646\\u0627\\u062e\\u062a \\u062f\\u0631\\u0633\\u062a \\u0641\\u062a\\u0646\\u0647 \\u0648 \\u062a\\u0634\\u062e\\u06cc\\u0635 \\u0631\\u0627\\u0647 \\u0635\\u062d\\u06cc\\u062d \\u0645\\u0642\\u0627\\u0628\\u0644\\u0647 \\u0628\\u0627 \\u0622\\u0646 \\u0646\\u0628\\u0627\\u0634\\u062f \\u060c \\u0686\\u0647  \\u0628\\u0633\\u0627 \\u0639\\u0643\\u0633 \\u0646\\u062a\\u06cc\\u062c\\u0647  \\u062f\\u0647\\u062f.\",\n          \"\\u0631\\u0648\\u0627\\u062c \\u067e\\u062f\\u06cc\\u062f\\u0647 \\u0632\\u06cc\\u0631 \\u0645\\u06cc\\u0632\\u06cc \\u062f\\u0631 \\u0628\\u06cc\\u0645\\u0627\\u0631\\u0633\\u062a\\u0627\\u0646 \\u0647\\u0627\",\n          \"\\u0631\\u0641\\u06cc\\u0639\\u06cc \\u062f\\u0644\\u06cc\\u0644 \\u0639\\u0645\\u062f\\u0647 \\u0628\\u0627\\u0644\\u0627\\u0631\\u0641\\u062a\\u0646 \\u0642\\u06cc\\u0645\\u062a \\u0645\\u0631\\u063a \\u062f\\u0631 \\u0631\\u0648\\u0632\\u0647\\u0627\\u06cc \\u0627\\u062e\\u06cc\\u0631 \\u0631\\u0627 \\u0639\\u062f\\u0645 \\u0639\\u0631\\u0636\\u0647 \\u0645\\u0646\\u0627\\u0633\\u0628 \\u062a\\u0648\\u0633\\u0637 \\u0639\\u0631\\u0636\\u0647 \\u06a9\\u0646\\u0646\\u062f\\u06af\\u0627\\u0646 \\u062f\\u0627\\u0646\\u0633\\u062a \\u0648 \\u06af\\u0641\\u062a: \\u0628\\u0647 \\u062f\\u0644\\u06cc\\u0644 \\u06a9\\u0627\\u0647\\u0634 \\u0639\\u0631\\u0636\\u0647 \\u062f\\u0631 \\u0628\\u0627\\u0632\\u0627\\u0631\\u060c \\u0634\\u0648\\u06a9\\u06cc \\u0648\\u0627\\u0631\\u062f \\u0634\\u062f \\u06a9\\u0647 \\u0627\\u0644\\u0628\\u062a\\u0647 \\u0628\\u0647 \\u062f\\u0644\\u06cc\\u0644 \\u06a9\\u0645 \\u0628\\u0648\\u062f\\u0646 \\u0630\\u062e\\u0627\\u06cc\\u0631 \\u0627\\u06cc\\u0646 \\u0627\\u062a\\u0641\\u0627\\u0642 \\u0631\\u062e \\u062f\\u0627\\u062f. \\u0627\\u0645\\u0627 \\u0647\\u0645 \\u0627\\u06a9\\u0646\\u0648\\u0646 \\u0630\\u062e\\u0627\\u06cc\\u0631 \\u062f\\u0631 \\u0648\\u0636\\u0639\\u06cc\\u062a \\u0645\\u0646\\u0627\\u0633\\u0628\\u06cc \\u0642\\u0631\\u0627\\u0631 \\u062f\\u0627\\u0631\\u0646\\u062f \\u0648 \\u0645\\u0631\\u063a \\u0645\\u0646\\u062c\\u0645\\u062f \\u0648\\u0630\\u062e\\u06cc\\u0631\\u0647 \\u0648\\u0627\\u0631\\u062f\\u0627\\u062a\\u06cc \\u06a9\\u0634\\u0648\\u0631 \\u062f\\u0631 \\u0628\\u0627\\u0632\\u0627\\u0631 \\u0639\\u0631\\u0636\\u0647 \\u0634\\u062f\\u0647 \\u0627\\u0633\\u062a. \\u0648\\u06cc \\u0627\\u0638\\u0647\\u0627\\u0631 \\u062f\\u0627\\u0634\\u062a: \\u0630\\u062e\\u0627\\u06cc\\u0631 \\u0637\\u0648\\u0631\\u06cc \\u0628\\u0631\\u0646\\u0627\\u0645\\u0647 \\u0631\\u06cc\\u0632\\u06cc \\u0634\\u062f\\u0647 \\u0627\\u0633\\u062a \\u06a9\\u0647 \\u0646\\u06af\\u0631\\u0627\\u0646\\u06cc \\u062f\\u0631 \\u0628\\u0627\\u0632\\u0627\\u0631 \\u0648\\u062c\\u0648\\u062f \\u0646\\u062f\\u0627\\u0631\\u062f.\"\n        ],\n        \"semantic_type\": \"\",\n        \"description\": \"\"\n      }\n    },\n    {\n      \"column\": \"category\",\n      \"properties\": {\n        \"dtype\": \"category\",\n        \"num_unique_values\": 5,\n        \"samples\": [\n          \"\\u0627\\u062c\\u062a\\u0645\\u0627\\u0639\\u06cc\",\n          \"\\u0627\\u0642\\u062a\\u0635\\u0627\\u062f\\u06cc\",\n          \"\\u0633\\u06cc\\u0627\\u0633\\u06cc\"\n        ],\n        \"semantic_type\": \"\",\n        \"description\": \"\"\n      }\n    },\n    {\n      \"column\": \"id_news\",\n      \"properties\": {\n        \"dtype\": \"number\",\n        \"std\": 4028,\n        \"min\": 100000,\n        \"max\": 113951,\n        \"num_unique_values\": 7746,\n        \"samples\": [\n          103398,\n          102285,\n          106689\n        ],\n        \"semantic_type\": \"\",\n        \"description\": \"\"\n      }\n    }\n  ]\n}",
              "type": "dataframe",
              "variable_name": "data"
            },
            "text/html": [
              "\n",
              "  <div id=\"df-0b2d944c-0359-408a-82a4-6b7a3736772e\" class=\"colab-df-container\">\n",
              "    <div>\n",
              "<style scoped>\n",
              "    .dataframe tbody tr th:only-of-type {\n",
              "        vertical-align: middle;\n",
              "    }\n",
              "\n",
              "    .dataframe tbody tr th {\n",
              "        vertical-align: top;\n",
              "    }\n",
              "\n",
              "    .dataframe thead th {\n",
              "        text-align: right;\n",
              "    }\n",
              "</style>\n",
              "<table border=\"1\" class=\"dataframe\">\n",
              "  <thead>\n",
              "    <tr style=\"text-align: right;\">\n",
              "      <th></th>\n",
              "      <th>title</th>\n",
              "      <th>lead</th>\n",
              "      <th>category</th>\n",
              "      <th>id_news</th>\n",
              "    </tr>\n",
              "  </thead>\n",
              "  <tbody>\n",
              "    <tr>\n",
              "      <th>0</th>\n",
              "      <td>حضور طالب لو در سپاهان صحت ندارد</td>\n",
              "      <td>برخي رسانه ها امروز و در چند روز گذشته خبر از ...</td>\n",
              "      <td>ورزشی</td>\n",
              "      <td>100000</td>\n",
              "    </tr>\n",
              "    <tr>\n",
              "      <th>1</th>\n",
              "      <td>نخستين پيروزي بسكتبال مهرام در آسیا</td>\n",
              "      <td>مهرامي ها در كوارترهاي اول و سوم را با نتايج (...</td>\n",
              "      <td>ورزشی</td>\n",
              "      <td>100001</td>\n",
              "    </tr>\n",
              "    <tr>\n",
              "      <th>2</th>\n",
              "      <td>تبريک حزب الله لبنان بابت قهرماني سپاهان</td>\n",
              "      <td>محمد رضا ساکت نيز در نامه هاي جداگانه اي به سي...</td>\n",
              "      <td>ورزشی</td>\n",
              "      <td>100003</td>\n",
              "    </tr>\n",
              "    <tr>\n",
              "      <th>3</th>\n",
              "      <td>علي دايي: مطمئن باشيد تيم فصل آينده با نظر من ...</td>\n",
              "      <td>خب شما برويد از همان خبرگزاري بپرسيد. در كنفرا...</td>\n",
              "      <td>ورزشی</td>\n",
              "      <td>100004</td>\n",
              "    </tr>\n",
              "    <tr>\n",
              "      <th>4</th>\n",
              "      <td>چکیده مهمترین حوادث و اتفاقات شبانه روز گذشته</td>\n",
              "      <td>مرد شرور با 7 نوچه اش تحت تعقيب پليس قرار گرفت...</td>\n",
              "      <td>اجتماعی</td>\n",
              "      <td>100006</td>\n",
              "    </tr>\n",
              "    <tr>\n",
              "      <th>...</th>\n",
              "      <td>...</td>\n",
              "      <td>...</td>\n",
              "      <td>...</td>\n",
              "      <td>...</td>\n",
              "    </tr>\n",
              "    <tr>\n",
              "      <th>7741</th>\n",
              "      <td>برنامه كامل رقابت ورزشكاران ايراني در  سنگاپور</td>\n",
              "      <td>برنامه مسابقات ورزشكاران ايراني در اولين دوره ...</td>\n",
              "      <td>ورزشی</td>\n",
              "      <td>113945</td>\n",
              "    </tr>\n",
              "    <tr>\n",
              "      <th>7742</th>\n",
              "      <td>نتایج هفته دوم لیگ برتر فوتسال؛ اولین پیروزی پ...</td>\n",
              "      <td>هفته دوم لیگ برتر فوتسال با انجام 6 بازی به پا...</td>\n",
              "      <td>ورزشی</td>\n",
              "      <td>113947</td>\n",
              "    </tr>\n",
              "    <tr>\n",
              "      <th>7743</th>\n",
              "      <td>از تغییر خودسرانه دز دارو بپرهیزید</td>\n",
              "      <td>وی تصریح کرد: ما گاهی اوقات شاهد هستیم که افرا...</td>\n",
              "      <td>اجتماعی</td>\n",
              "      <td>113949</td>\n",
              "    </tr>\n",
              "    <tr>\n",
              "      <th>7744</th>\n",
              "      <td>داستان مترو تهران از خطبه آیت الله هاشمی تا نپ...</td>\n",
              "      <td>گرچه بارها دولت با فرافکنی مشکل مترو تهران را ...</td>\n",
              "      <td>اجتماعی</td>\n",
              "      <td>113950</td>\n",
              "    </tr>\n",
              "    <tr>\n",
              "      <th>7745</th>\n",
              "      <td>دسته گلی برای حسین شریعتمداری!</td>\n",
              "      <td>من حسین شریعتمداری را به عنوان فردی می شناسم ک...</td>\n",
              "      <td>سیاسی</td>\n",
              "      <td>113951</td>\n",
              "    </tr>\n",
              "  </tbody>\n",
              "</table>\n",
              "<p>7746 rows × 4 columns</p>\n",
              "</div>\n",
              "    <div class=\"colab-df-buttons\">\n",
              "\n",
              "  <div class=\"colab-df-container\">\n",
              "    <button class=\"colab-df-convert\" onclick=\"convertToInteractive('df-0b2d944c-0359-408a-82a4-6b7a3736772e')\"\n",
              "            title=\"Convert this dataframe to an interactive table.\"\n",
              "            style=\"display:none;\">\n",
              "\n",
              "  <svg xmlns=\"http://www.w3.org/2000/svg\" height=\"24px\" viewBox=\"0 -960 960 960\">\n",
              "    <path d=\"M120-120v-720h720v720H120Zm60-500h600v-160H180v160Zm220 220h160v-160H400v160Zm0 220h160v-160H400v160ZM180-400h160v-160H180v160Zm440 0h160v-160H620v160ZM180-180h160v-160H180v160Zm440 0h160v-160H620v160Z\"/>\n",
              "  </svg>\n",
              "    </button>\n",
              "\n",
              "  <style>\n",
              "    .colab-df-container {\n",
              "      display:flex;\n",
              "      gap: 12px;\n",
              "    }\n",
              "\n",
              "    .colab-df-convert {\n",
              "      background-color: #E8F0FE;\n",
              "      border: none;\n",
              "      border-radius: 50%;\n",
              "      cursor: pointer;\n",
              "      display: none;\n",
              "      fill: #1967D2;\n",
              "      height: 32px;\n",
              "      padding: 0 0 0 0;\n",
              "      width: 32px;\n",
              "    }\n",
              "\n",
              "    .colab-df-convert:hover {\n",
              "      background-color: #E2EBFA;\n",
              "      box-shadow: 0px 1px 2px rgba(60, 64, 67, 0.3), 0px 1px 3px 1px rgba(60, 64, 67, 0.15);\n",
              "      fill: #174EA6;\n",
              "    }\n",
              "\n",
              "    .colab-df-buttons div {\n",
              "      margin-bottom: 4px;\n",
              "    }\n",
              "\n",
              "    [theme=dark] .colab-df-convert {\n",
              "      background-color: #3B4455;\n",
              "      fill: #D2E3FC;\n",
              "    }\n",
              "\n",
              "    [theme=dark] .colab-df-convert:hover {\n",
              "      background-color: #434B5C;\n",
              "      box-shadow: 0px 1px 3px 1px rgba(0, 0, 0, 0.15);\n",
              "      filter: drop-shadow(0px 1px 2px rgba(0, 0, 0, 0.3));\n",
              "      fill: #FFFFFF;\n",
              "    }\n",
              "  </style>\n",
              "\n",
              "    <script>\n",
              "      const buttonEl =\n",
              "        document.querySelector('#df-0b2d944c-0359-408a-82a4-6b7a3736772e button.colab-df-convert');\n",
              "      buttonEl.style.display =\n",
              "        google.colab.kernel.accessAllowed ? 'block' : 'none';\n",
              "\n",
              "      async function convertToInteractive(key) {\n",
              "        const element = document.querySelector('#df-0b2d944c-0359-408a-82a4-6b7a3736772e');\n",
              "        const dataTable =\n",
              "          await google.colab.kernel.invokeFunction('convertToInteractive',\n",
              "                                                    [key], {});\n",
              "        if (!dataTable) return;\n",
              "\n",
              "        const docLinkHtml = 'Like what you see? Visit the ' +\n",
              "          '<a target=\"_blank\" href=https://colab.research.google.com/notebooks/data_table.ipynb>data table notebook</a>'\n",
              "          + ' to learn more about interactive tables.';\n",
              "        element.innerHTML = '';\n",
              "        dataTable['output_type'] = 'display_data';\n",
              "        await google.colab.output.renderOutput(dataTable, element);\n",
              "        const docLink = document.createElement('div');\n",
              "        docLink.innerHTML = docLinkHtml;\n",
              "        element.appendChild(docLink);\n",
              "      }\n",
              "    </script>\n",
              "  </div>\n",
              "\n",
              "\n",
              "<div id=\"df-03d1b92a-59aa-41b9-a032-12e4f724e9c8\">\n",
              "  <button class=\"colab-df-quickchart\" onclick=\"quickchart('df-03d1b92a-59aa-41b9-a032-12e4f724e9c8')\"\n",
              "            title=\"Suggest charts\"\n",
              "            style=\"display:none;\">\n",
              "\n",
              "<svg xmlns=\"http://www.w3.org/2000/svg\" height=\"24px\"viewBox=\"0 0 24 24\"\n",
              "     width=\"24px\">\n",
              "    <g>\n",
              "        <path d=\"M19 3H5c-1.1 0-2 .9-2 2v14c0 1.1.9 2 2 2h14c1.1 0 2-.9 2-2V5c0-1.1-.9-2-2-2zM9 17H7v-7h2v7zm4 0h-2V7h2v10zm4 0h-2v-4h2v4z\"/>\n",
              "    </g>\n",
              "</svg>\n",
              "  </button>\n",
              "\n",
              "<style>\n",
              "  .colab-df-quickchart {\n",
              "      --bg-color: #E8F0FE;\n",
              "      --fill-color: #1967D2;\n",
              "      --hover-bg-color: #E2EBFA;\n",
              "      --hover-fill-color: #174EA6;\n",
              "      --disabled-fill-color: #AAA;\n",
              "      --disabled-bg-color: #DDD;\n",
              "  }\n",
              "\n",
              "  [theme=dark] .colab-df-quickchart {\n",
              "      --bg-color: #3B4455;\n",
              "      --fill-color: #D2E3FC;\n",
              "      --hover-bg-color: #434B5C;\n",
              "      --hover-fill-color: #FFFFFF;\n",
              "      --disabled-bg-color: #3B4455;\n",
              "      --disabled-fill-color: #666;\n",
              "  }\n",
              "\n",
              "  .colab-df-quickchart {\n",
              "    background-color: var(--bg-color);\n",
              "    border: none;\n",
              "    border-radius: 50%;\n",
              "    cursor: pointer;\n",
              "    display: none;\n",
              "    fill: var(--fill-color);\n",
              "    height: 32px;\n",
              "    padding: 0;\n",
              "    width: 32px;\n",
              "  }\n",
              "\n",
              "  .colab-df-quickchart:hover {\n",
              "    background-color: var(--hover-bg-color);\n",
              "    box-shadow: 0 1px 2px rgba(60, 64, 67, 0.3), 0 1px 3px 1px rgba(60, 64, 67, 0.15);\n",
              "    fill: var(--button-hover-fill-color);\n",
              "  }\n",
              "\n",
              "  .colab-df-quickchart-complete:disabled,\n",
              "  .colab-df-quickchart-complete:disabled:hover {\n",
              "    background-color: var(--disabled-bg-color);\n",
              "    fill: var(--disabled-fill-color);\n",
              "    box-shadow: none;\n",
              "  }\n",
              "\n",
              "  .colab-df-spinner {\n",
              "    border: 2px solid var(--fill-color);\n",
              "    border-color: transparent;\n",
              "    border-bottom-color: var(--fill-color);\n",
              "    animation:\n",
              "      spin 1s steps(1) infinite;\n",
              "  }\n",
              "\n",
              "  @keyframes spin {\n",
              "    0% {\n",
              "      border-color: transparent;\n",
              "      border-bottom-color: var(--fill-color);\n",
              "      border-left-color: var(--fill-color);\n",
              "    }\n",
              "    20% {\n",
              "      border-color: transparent;\n",
              "      border-left-color: var(--fill-color);\n",
              "      border-top-color: var(--fill-color);\n",
              "    }\n",
              "    30% {\n",
              "      border-color: transparent;\n",
              "      border-left-color: var(--fill-color);\n",
              "      border-top-color: var(--fill-color);\n",
              "      border-right-color: var(--fill-color);\n",
              "    }\n",
              "    40% {\n",
              "      border-color: transparent;\n",
              "      border-right-color: var(--fill-color);\n",
              "      border-top-color: var(--fill-color);\n",
              "    }\n",
              "    60% {\n",
              "      border-color: transparent;\n",
              "      border-right-color: var(--fill-color);\n",
              "    }\n",
              "    80% {\n",
              "      border-color: transparent;\n",
              "      border-right-color: var(--fill-color);\n",
              "      border-bottom-color: var(--fill-color);\n",
              "    }\n",
              "    90% {\n",
              "      border-color: transparent;\n",
              "      border-bottom-color: var(--fill-color);\n",
              "    }\n",
              "  }\n",
              "</style>\n",
              "\n",
              "  <script>\n",
              "    async function quickchart(key) {\n",
              "      const quickchartButtonEl =\n",
              "        document.querySelector('#' + key + ' button');\n",
              "      quickchartButtonEl.disabled = true;  // To prevent multiple clicks.\n",
              "      quickchartButtonEl.classList.add('colab-df-spinner');\n",
              "      try {\n",
              "        const charts = await google.colab.kernel.invokeFunction(\n",
              "            'suggestCharts', [key], {});\n",
              "      } catch (error) {\n",
              "        console.error('Error during call to suggestCharts:', error);\n",
              "      }\n",
              "      quickchartButtonEl.classList.remove('colab-df-spinner');\n",
              "      quickchartButtonEl.classList.add('colab-df-quickchart-complete');\n",
              "    }\n",
              "    (() => {\n",
              "      let quickchartButtonEl =\n",
              "        document.querySelector('#df-03d1b92a-59aa-41b9-a032-12e4f724e9c8 button');\n",
              "      quickchartButtonEl.style.display =\n",
              "        google.colab.kernel.accessAllowed ? 'block' : 'none';\n",
              "    })();\n",
              "  </script>\n",
              "</div>\n",
              "    </div>\n",
              "  </div>\n"
            ],
            "text/plain": [
              "                                                  title  \\\n",
              "0                      حضور طالب لو در سپاهان صحت ندارد   \n",
              "1                   نخستين پيروزي بسكتبال مهرام در آسیا   \n",
              "2              تبريک حزب الله لبنان بابت قهرماني سپاهان   \n",
              "3     علي دايي: مطمئن باشيد تيم فصل آينده با نظر من ...   \n",
              "4         چکیده مهمترین حوادث و اتفاقات شبانه روز گذشته   \n",
              "...                                                 ...   \n",
              "7741     برنامه كامل رقابت ورزشكاران ايراني در  سنگاپور   \n",
              "7742  نتایج هفته دوم لیگ برتر فوتسال؛ اولین پیروزی پ...   \n",
              "7743                 از تغییر خودسرانه دز دارو بپرهیزید   \n",
              "7744  داستان مترو تهران از خطبه آیت الله هاشمی تا نپ...   \n",
              "7745                     دسته گلی برای حسین شریعتمداری!   \n",
              "\n",
              "                                                   lead category  id_news  \n",
              "0     برخي رسانه ها امروز و در چند روز گذشته خبر از ...    ورزشی   100000  \n",
              "1     مهرامي ها در كوارترهاي اول و سوم را با نتايج (...    ورزشی   100001  \n",
              "2     محمد رضا ساکت نيز در نامه هاي جداگانه اي به سي...    ورزشی   100003  \n",
              "3     خب شما برويد از همان خبرگزاري بپرسيد. در كنفرا...    ورزشی   100004  \n",
              "4     مرد شرور با 7 نوچه اش تحت تعقيب پليس قرار گرفت...  اجتماعی   100006  \n",
              "...                                                 ...      ...      ...  \n",
              "7741  برنامه مسابقات ورزشكاران ايراني در اولين دوره ...    ورزشی   113945  \n",
              "7742  هفته دوم لیگ برتر فوتسال با انجام 6 بازی به پا...    ورزشی   113947  \n",
              "7743  وی تصریح کرد: ما گاهی اوقات شاهد هستیم که افرا...  اجتماعی   113949  \n",
              "7744  گرچه بارها دولت با فرافکنی مشکل مترو تهران را ...  اجتماعی   113950  \n",
              "7745  من حسین شریعتمداری را به عنوان فردی می شناسم ک...    سیاسی   113951  \n",
              "\n",
              "[7746 rows x 4 columns]"
            ]
          },
          "execution_count": 5,
          "metadata": {},
          "output_type": "execute_result"
        }
      ],
      "source": [
        "data"
      ]
    },
    {
      "cell_type": "code",
      "execution_count": 6,
      "id": "8f3e8278",
      "metadata": {
        "id": "8f3e8278"
      },
      "outputs": [],
      "source": [
        "import nltk\n",
        "with open(\"stopwords.txt\", encoding='utf-8') as stopwords_file:\n",
        "    stopwords = stopwords_file.readlines()\n",
        "stopwords = [stopword.replace('\\n', '') for stopword in stopwords]\n",
        "\n",
        "nltk.download('stopwords')\n",
        "nltk_stopwords = nltk.corpus.stopwords.words('english')\n",
        "stopwords.extend(nltk_stopwords)\n",
        "len(stopwords)"
      ]
    },
    {
      "cell_type": "code",
      "execution_count": 1,
      "id": "5402f389",
      "metadata": {
        "colab": {
          "base_uri": "https://localhost:8080/"
        },
        "id": "5402f389",
        "outputId": "b3e2e606-cc40-42ea-f141-67222d7f88a0"
      },
      "outputs": [],
      "source": [
        "# !pip install hazm"
      ]
    },
    {
      "cell_type": "code",
      "execution_count": 9,
      "id": "e027d12f",
      "metadata": {
        "id": "e027d12f"
      },
      "outputs": [],
      "source": [
        "import pandas as pd\n",
        "from hazm import word_tokenize, Stemmer, Lemmatizer\n",
        "stemmer = Stemmer()\n",
        "lem = Lemmatizer()\n",
        "dataset = pd.DataFrame(columns=('title_lead', 'category'))\n",
        "for index, row in data.iterrows():\n",
        "    title_lead = row['title']+' '+row['lead']\n",
        "    title_lead_tokenized = word_tokenize(title_lead)\n",
        "    title_lead_filtered = [\n",
        "        w for w in title_lead_tokenized if not w in stopwords]\n",
        "    title_lead_filtered_stemmed = [\n",
        "        stemmer.stem(w) for w in title_lead_filtered]\n",
        "    title_lead_filtered_lemmatized = [\n",
        "        lem.lemmatize(w).replace('#', ' ') for w in title_lead_filtered_stemmed]\n",
        "    dataset.loc[index] = {\n",
        "        \"title_lead\": ' '.join(title_lead_filtered_stemmed)+' '+' '.join(title_lead_filtered_lemmatized),\n",
        "        'category': row['category']\n",
        "    }"
      ]
    },
    {
      "cell_type": "code",
      "execution_count": null,
      "id": "bc4e4375",
      "metadata": {
        "id": "bc4e4375"
      },
      "outputs": [],
      "source": [
        "# dataset.head()\n",
        "dataset.to_csv('clean_tabnak_news.csv')"
      ]
    },
    {
      "cell_type": "code",
      "execution_count": 10,
      "id": "edc400b4",
      "metadata": {
        "id": "edc400b4"
      },
      "outputs": [],
      "source": [
        "from sklearn.feature_extraction.text import TfidfVectorizer\n",
        "from sklearn.preprocessing import LabelEncoder"
      ]
    },
    {
      "cell_type": "code",
      "execution_count": 11,
      "id": "11bcb514",
      "metadata": {
        "id": "11bcb514"
      },
      "outputs": [],
      "source": [
        "vectorizer = TfidfVectorizer(ngram_range=(1, 2))\n",
        "vectorizer.fit(dataset['title_lead'])\n",
        "X = vectorizer.transform(dataset['title_lead'])"
      ]
    },
    {
      "cell_type": "code",
      "execution_count": 12,
      "id": "3701c683",
      "metadata": {
        "colab": {
          "base_uri": "https://localhost:8080/"
        },
        "id": "3701c683",
        "outputId": "c883a908-9edb-46c3-daf7-c8683a0794fb"
      },
      "outputs": [
        {
          "data": {
            "text/plain": [
              "7746"
            ]
          },
          "execution_count": 12,
          "metadata": {},
          "output_type": "execute_result"
        }
      ],
      "source": [
        "le = LabelEncoder()\n",
        "y = le.fit_transform(dataset['category'])\n",
        "len(y)"
      ]
    },
    {
      "cell_type": "code",
      "execution_count": 13,
      "id": "71a0d720",
      "metadata": {
        "colab": {
          "base_uri": "https://localhost:8080/"
        },
        "id": "71a0d720",
        "outputId": "5b12f92b-6348-427f-b59f-0e3fb4de9484"
      },
      "outputs": [
        {
          "data": {
            "text/plain": [
              "(7746, 214194)"
            ]
          },
          "execution_count": 13,
          "metadata": {},
          "output_type": "execute_result"
        }
      ],
      "source": [
        "import numpy as np\n",
        "np.shape(X)"
      ]
    },
    {
      "cell_type": "code",
      "execution_count": 14,
      "id": "a1190e2d",
      "metadata": {
        "id": "a1190e2d"
      },
      "outputs": [],
      "source": [
        "from sklearn.model_selection import train_test_split"
      ]
    },
    {
      "cell_type": "code",
      "execution_count": 15,
      "id": "40fd32af",
      "metadata": {
        "id": "40fd32af"
      },
      "outputs": [],
      "source": [
        "from sklearn.naive_bayes import GaussianNB"
      ]
    },
    {
      "cell_type": "code",
      "execution_count": 19,
      "id": "5bdc443a",
      "metadata": {
        "colab": {
          "base_uri": "https://localhost:8080/"
        },
        "id": "5bdc443a",
        "outputId": "e2cbc8fb-5220-4e38-bd3b-127c83c2a2ec"
      },
      "outputs": [
        {
          "name": "stdout",
          "output_type": "stream",
          "text": [
            "  (0, 190142)\t0.18310789316509096\n",
            "  (0, 190135)\t0.14849827596313728\n",
            "  (0, 186836)\t0.19149092168266152\n",
            "  (0, 186814)\t0.1335311871747598\n",
            "  (0, 148329)\t0.19149092168266152\n",
            "  (0, 148320)\t0.19149092168266152\n",
            "  (0, 148304)\t0.26015465712451796\n",
            "  (0, 136516)\t0.14494525604660308\n",
            "  (0, 136456)\t0.06643651975084558\n",
            "  (0, 135143)\t0.16877701125858288\n",
            "  (0, 135127)\t0.0905385414552356\n",
            "  (0, 124896)\t0.3055824779726751\n",
            "  (0, 124878)\t0.2634644378559925\n",
            "  (0, 122834)\t0.19149092168266152\n",
            "  (0, 122820)\t0.13231465440827384\n",
            "  (0, 113849)\t0.19149092168266152\n",
            "  (0, 113796)\t0.19149092168266152\n",
            "  (0, 113702)\t0.20850442118889365\n",
            "  (0, 96323)\t0.16558993173150785\n",
            "  (0, 96253)\t0.09459192946569558\n",
            "  (0, 90216)\t0.04194880165782988\n",
            "  (0, 86029)\t0.15279123898633756\n",
            "  (0, 85997)\t0.11278782351127026\n",
            "  (0, 81629)\t0.09574546084133076\n",
            "  (0, 81628)\t0.08019699137050619\n",
            "  :\t:\n",
            "  (7745, 119350)\t0.10437247425054298\n",
            "  (7745, 118095)\t0.1658718320484276\n",
            "  (7745, 118094)\t0.1658718320484276\n",
            "  (7745, 118093)\t0.1658718320484276\n",
            "  (7745, 118091)\t0.47583104360667117\n",
            "  (7745, 102215)\t0.0829359160242138\n",
            "  (7745, 102214)\t0.0793051739344452\n",
            "  (7745, 102207)\t0.13378316947511293\n",
            "  (7745, 88343)\t0.1658718320484276\n",
            "  (7745, 88308)\t0.10245670803972415\n",
            "  (7745, 87470)\t0.14619675867200166\n",
            "  (7745, 87397)\t0.10003287665018978\n",
            "  (7745, 71190)\t0.3172206957377808\n",
            "  (7745, 71159)\t0.20240763605432063\n",
            "  (7745, 43549)\t0.1658718320484276\n",
            "  (7745, 43548)\t0.14946195973067009\n",
            "  (7745, 42374)\t0.1658718320484276\n",
            "  (7745, 42355)\t0.11737329715735544\n",
            "  (7745, 38284)\t0.0829359160242138\n",
            "  (7745, 38281)\t0.14104465365465008\n",
            "  (7745, 33656)\t0.1658718320484276\n",
            "  (7745, 33488)\t0.08469740087411708\n",
            "  (7745, 33126)\t0.1658718320484276\n",
            "  (7745, 32929)\t0.1658718320484276\n",
            "  (7745, 32791)\t0.12774504885910798\n"
          ]
        }
      ],
      "source": [
        "print(X)"
      ]
    },
    {
      "cell_type": "code",
      "execution_count": 16,
      "id": "8dea6d6f",
      "metadata": {
        "id": "8dea6d6f"
      },
      "outputs": [],
      "source": [
        "X_train, X_test, y_train, y_test = train_test_split(X, y)"
      ]
    },
    {
      "cell_type": "code",
      "execution_count": 17,
      "id": "7fc9e598",
      "metadata": {
        "id": "7fc9e598"
      },
      "outputs": [],
      "source": [
        "X_train = pd.DataFrame(X_train.toarray())\n",
        "X_test = pd.DataFrame(X_test.toarray())"
      ]
    },
    {
      "cell_type": "code",
      "execution_count": 18,
      "id": "e9b5c040",
      "metadata": {
        "colab": {
          "base_uri": "https://localhost:8080/",
          "height": 74
        },
        "id": "e9b5c040",
        "outputId": "acc40e58-80c0-46a0-9107-9f7df0139d54"
      },
      "outputs": [
        {
          "data": {
            "text/html": [
              "<style>#sk-container-id-1 {color: black;background-color: white;}#sk-container-id-1 pre{padding: 0;}#sk-container-id-1 div.sk-toggleable {background-color: white;}#sk-container-id-1 label.sk-toggleable__label {cursor: pointer;display: block;width: 100%;margin-bottom: 0;padding: 0.3em;box-sizing: border-box;text-align: center;}#sk-container-id-1 label.sk-toggleable__label-arrow:before {content: \"▸\";float: left;margin-right: 0.25em;color: #696969;}#sk-container-id-1 label.sk-toggleable__label-arrow:hover:before {color: black;}#sk-container-id-1 div.sk-estimator:hover label.sk-toggleable__label-arrow:before {color: black;}#sk-container-id-1 div.sk-toggleable__content {max-height: 0;max-width: 0;overflow: hidden;text-align: left;background-color: #f0f8ff;}#sk-container-id-1 div.sk-toggleable__content pre {margin: 0.2em;color: black;border-radius: 0.25em;background-color: #f0f8ff;}#sk-container-id-1 input.sk-toggleable__control:checked~div.sk-toggleable__content {max-height: 200px;max-width: 100%;overflow: auto;}#sk-container-id-1 input.sk-toggleable__control:checked~label.sk-toggleable__label-arrow:before {content: \"▾\";}#sk-container-id-1 div.sk-estimator input.sk-toggleable__control:checked~label.sk-toggleable__label {background-color: #d4ebff;}#sk-container-id-1 div.sk-label input.sk-toggleable__control:checked~label.sk-toggleable__label {background-color: #d4ebff;}#sk-container-id-1 input.sk-hidden--visually {border: 0;clip: rect(1px 1px 1px 1px);clip: rect(1px, 1px, 1px, 1px);height: 1px;margin: -1px;overflow: hidden;padding: 0;position: absolute;width: 1px;}#sk-container-id-1 div.sk-estimator {font-family: monospace;background-color: #f0f8ff;border: 1px dotted black;border-radius: 0.25em;box-sizing: border-box;margin-bottom: 0.5em;}#sk-container-id-1 div.sk-estimator:hover {background-color: #d4ebff;}#sk-container-id-1 div.sk-parallel-item::after {content: \"\";width: 100%;border-bottom: 1px solid gray;flex-grow: 1;}#sk-container-id-1 div.sk-label:hover label.sk-toggleable__label {background-color: #d4ebff;}#sk-container-id-1 div.sk-serial::before {content: \"\";position: absolute;border-left: 1px solid gray;box-sizing: border-box;top: 0;bottom: 0;left: 50%;z-index: 0;}#sk-container-id-1 div.sk-serial {display: flex;flex-direction: column;align-items: center;background-color: white;padding-right: 0.2em;padding-left: 0.2em;position: relative;}#sk-container-id-1 div.sk-item {position: relative;z-index: 1;}#sk-container-id-1 div.sk-parallel {display: flex;align-items: stretch;justify-content: center;background-color: white;position: relative;}#sk-container-id-1 div.sk-item::before, #sk-container-id-1 div.sk-parallel-item::before {content: \"\";position: absolute;border-left: 1px solid gray;box-sizing: border-box;top: 0;bottom: 0;left: 50%;z-index: -1;}#sk-container-id-1 div.sk-parallel-item {display: flex;flex-direction: column;z-index: 1;position: relative;background-color: white;}#sk-container-id-1 div.sk-parallel-item:first-child::after {align-self: flex-end;width: 50%;}#sk-container-id-1 div.sk-parallel-item:last-child::after {align-self: flex-start;width: 50%;}#sk-container-id-1 div.sk-parallel-item:only-child::after {width: 0;}#sk-container-id-1 div.sk-dashed-wrapped {border: 1px dashed gray;margin: 0 0.4em 0.5em 0.4em;box-sizing: border-box;padding-bottom: 0.4em;background-color: white;}#sk-container-id-1 div.sk-label label {font-family: monospace;font-weight: bold;display: inline-block;line-height: 1.2em;}#sk-container-id-1 div.sk-label-container {text-align: center;}#sk-container-id-1 div.sk-container {/* jupyter's `normalize.less` sets `[hidden] { display: none; }` but bootstrap.min.css set `[hidden] { display: none !important; }` so we also need the `!important` here to be able to override the default hidden behavior on the sphinx rendered scikit-learn.org. See: https://github.com/scikit-learn/scikit-learn/issues/21755 */display: inline-block !important;position: relative;}#sk-container-id-1 div.sk-text-repr-fallback {display: none;}</style><div id=\"sk-container-id-1\" class=\"sk-top-container\"><div class=\"sk-text-repr-fallback\"><pre>GaussianNB()</pre><b>In a Jupyter environment, please rerun this cell to show the HTML representation or trust the notebook. <br />On GitHub, the HTML representation is unable to render, please try loading this page with nbviewer.org.</b></div><div class=\"sk-container\" hidden><div class=\"sk-item\"><div class=\"sk-estimator sk-toggleable\"><input class=\"sk-toggleable__control sk-hidden--visually\" id=\"sk-estimator-id-1\" type=\"checkbox\" checked><label for=\"sk-estimator-id-1\" class=\"sk-toggleable__label sk-toggleable__label-arrow\">GaussianNB</label><div class=\"sk-toggleable__content\"><pre>GaussianNB()</pre></div></div></div></div></div>"
            ],
            "text/plain": [
              "GaussianNB()"
            ]
          },
          "execution_count": 18,
          "metadata": {},
          "output_type": "execute_result"
        }
      ],
      "source": [
        "model = GaussianNB()\n",
        "model.fit(X_train, y_train)"
      ]
    },
    {
      "cell_type": "code",
      "execution_count": 20,
      "id": "da75c14d",
      "metadata": {
        "id": "da75c14d"
      },
      "outputs": [],
      "source": [
        "from sklearn.metrics import classification_report, confusion_matrix"
      ]
    },
    {
      "cell_type": "code",
      "execution_count": 21,
      "id": "e35a3936",
      "metadata": {
        "id": "e35a3936"
      },
      "outputs": [],
      "source": [
        "from sklearn.metrics import accuracy_score"
      ]
    },
    {
      "cell_type": "code",
      "execution_count": null,
      "id": "688db47e",
      "metadata": {
        "id": "688db47e"
      },
      "outputs": [],
      "source": [
        "# y_pred_train = model.predict(X_train)\n",
        "# y_pred_test = model.predict(X_test)"
      ]
    },
    {
      "cell_type": "code",
      "execution_count": 22,
      "id": "7d00c5e9",
      "metadata": {
        "colab": {
          "base_uri": "https://localhost:8080/"
        },
        "id": "7d00c5e9",
        "outputId": "6d6f7430-0e8b-4411-d94c-556a929a3005"
      },
      "outputs": [
        {
          "name": "stdout",
          "output_type": "stream",
          "text": [
            "              precision    recall  f1-score   support\n",
            "\n",
            "           0       0.74      0.75      0.74       582\n",
            "           1       0.54      0.17      0.26        83\n",
            "           2       0.63      0.74      0.68       363\n",
            "           3       0.56      0.27      0.37       184\n",
            "           4       0.85      0.95      0.90       725\n",
            "\n",
            "    accuracy                           0.75      1937\n",
            "   macro avg       0.66      0.58      0.59      1937\n",
            "weighted avg       0.74      0.75      0.73      1937\n",
            "\n"
          ]
        }
      ],
      "source": [
        "y_pred = model.predict(X_test)\n",
        "print(classification_report(y_test, y_pred))"
      ]
    },
    {
      "cell_type": "code",
      "execution_count": 23,
      "id": "c88cc806",
      "metadata": {
        "colab": {
          "base_uri": "https://localhost:8080/"
        },
        "id": "c88cc806",
        "outputId": "5124a1fe-5b27-4a48-ec0d-41544e0324e9"
      },
      "outputs": [
        {
          "data": {
            "text/plain": [
              "array([[436,   9,  69,  18,  50],\n",
              "       [ 41,  14,  17,   1,  10],\n",
              "       [ 47,   1, 269,  14,  32],\n",
              "       [ 49,   1,  58,  50,  26],\n",
              "       [ 17,   1,  15,   6, 686]])"
            ]
          },
          "execution_count": 23,
          "metadata": {},
          "output_type": "execute_result"
        }
      ],
      "source": [
        "confusion_matrix(y_test, y_pred)"
      ]
    },
    {
      "cell_type": "markdown",
      "id": "aoKLbNZqVflr",
      "metadata": {
        "id": "aoKLbNZqVflr"
      },
      "source": [
        "##4:\"ورزشی\"\n",
        "\n",
        "##3:\"فرهنگی\"\n",
        "\n",
        "##2:\"سیاسی\"\n",
        "\n",
        "##1:\"اقتصادی\"\n",
        "\n",
        "##0:'اجتماعی'\n"
      ]
    },
    {
      "cell_type": "code",
      "execution_count": null,
      "id": "6eeee5bc",
      "metadata": {
        "id": "6eeee5bc"
      },
      "outputs": [],
      "source": []
    }
  ],
  "metadata": {
    "colab": {
      "provenance": []
    },
    "kernelspec": {
      "display_name": "Python 3 (ipykernel)",
      "language": "python",
      "name": "python3"
    },
    "language_info": {
      "codemirror_mode": {
        "name": "ipython",
        "version": 3
      },
      "file_extension": ".py",
      "mimetype": "text/x-python",
      "name": "python",
      "nbconvert_exporter": "python",
      "pygments_lexer": "ipython3",
      "version": "3.11.3"
    }
  },
  "nbformat": 4,
  "nbformat_minor": 5
}
