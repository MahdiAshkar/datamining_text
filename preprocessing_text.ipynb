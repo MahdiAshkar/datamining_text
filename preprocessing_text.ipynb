{
 "cells": [
  {
   "cell_type": "code",
   "execution_count": 3,
   "id": "a06965bb",
   "metadata": {},
   "outputs": [],
   "source": [
    "import pandas as pd"
   ]
  },
  {
   "cell_type": "code",
   "execution_count": 4,
   "id": "10fbb4ef",
   "metadata": {},
   "outputs": [],
   "source": [
    "data = pd.read_csv('edit_tabnak_news.csv')"
   ]
  },
  {
   "cell_type": "code",
   "execution_count": 5,
   "id": "dd6f6302",
   "metadata": {},
   "outputs": [
    {
     "data": {
      "text/html": [
       "<div>\n",
       "<style scoped>\n",
       "    .dataframe tbody tr th:only-of-type {\n",
       "        vertical-align: middle;\n",
       "    }\n",
       "\n",
       "    .dataframe tbody tr th {\n",
       "        vertical-align: top;\n",
       "    }\n",
       "\n",
       "    .dataframe thead th {\n",
       "        text-align: right;\n",
       "    }\n",
       "</style>\n",
       "<table border=\"1\" class=\"dataframe\">\n",
       "  <thead>\n",
       "    <tr style=\"text-align: right;\">\n",
       "      <th></th>\n",
       "      <th>title</th>\n",
       "      <th>lead</th>\n",
       "      <th>category</th>\n",
       "      <th>id_news</th>\n",
       "    </tr>\n",
       "  </thead>\n",
       "  <tbody>\n",
       "    <tr>\n",
       "      <th>0</th>\n",
       "      <td>حضور طالب لو در سپاهان صحت ندارد</td>\n",
       "      <td>برخي رسانه ها امروز و در چند روز گذشته خبر از ...</td>\n",
       "      <td>ورزشی</td>\n",
       "      <td>100000</td>\n",
       "    </tr>\n",
       "    <tr>\n",
       "      <th>1</th>\n",
       "      <td>نخستين پيروزي بسكتبال مهرام در آسیا</td>\n",
       "      <td>مهرامي ها در كوارترهاي اول و سوم را با نتايج (...</td>\n",
       "      <td>ورزشی</td>\n",
       "      <td>100001</td>\n",
       "    </tr>\n",
       "    <tr>\n",
       "      <th>2</th>\n",
       "      <td>تبريک حزب الله لبنان بابت قهرماني سپاهان</td>\n",
       "      <td>محمد رضا ساکت نيز در نامه هاي جداگانه اي به سي...</td>\n",
       "      <td>ورزشی</td>\n",
       "      <td>100003</td>\n",
       "    </tr>\n",
       "    <tr>\n",
       "      <th>3</th>\n",
       "      <td>علي دايي: مطمئن باشيد تيم فصل آينده با نظر من ...</td>\n",
       "      <td>خب شما برويد از همان خبرگزاري بپرسيد. در كنفرا...</td>\n",
       "      <td>ورزشی</td>\n",
       "      <td>100004</td>\n",
       "    </tr>\n",
       "    <tr>\n",
       "      <th>4</th>\n",
       "      <td>چکیده مهمترین حوادث و اتفاقات شبانه روز گذشته</td>\n",
       "      <td>مرد شرور با 7 نوچه اش تحت تعقيب پليس قرار گرفت...</td>\n",
       "      <td>اجتماعی</td>\n",
       "      <td>100006</td>\n",
       "    </tr>\n",
       "    <tr>\n",
       "      <th>...</th>\n",
       "      <td>...</td>\n",
       "      <td>...</td>\n",
       "      <td>...</td>\n",
       "      <td>...</td>\n",
       "    </tr>\n",
       "    <tr>\n",
       "      <th>7741</th>\n",
       "      <td>برنامه كامل رقابت ورزشكاران ايراني در  سنگاپور</td>\n",
       "      <td>برنامه مسابقات ورزشكاران ايراني در اولين دوره ...</td>\n",
       "      <td>ورزشی</td>\n",
       "      <td>113945</td>\n",
       "    </tr>\n",
       "    <tr>\n",
       "      <th>7742</th>\n",
       "      <td>نتایج هفته دوم لیگ برتر فوتسال؛ اولین پیروزی پ...</td>\n",
       "      <td>هفته دوم لیگ برتر فوتسال با انجام 6 بازی به پا...</td>\n",
       "      <td>ورزشی</td>\n",
       "      <td>113947</td>\n",
       "    </tr>\n",
       "    <tr>\n",
       "      <th>7743</th>\n",
       "      <td>از تغییر خودسرانه دز دارو بپرهیزید</td>\n",
       "      <td>وی تصریح کرد: ما گاهی اوقات شاهد هستیم که افرا...</td>\n",
       "      <td>اجتماعی</td>\n",
       "      <td>113949</td>\n",
       "    </tr>\n",
       "    <tr>\n",
       "      <th>7744</th>\n",
       "      <td>داستان مترو تهران از خطبه آیت الله هاشمی تا نپ...</td>\n",
       "      <td>گرچه بارها دولت با فرافکنی مشکل مترو تهران را ...</td>\n",
       "      <td>اجتماعی</td>\n",
       "      <td>113950</td>\n",
       "    </tr>\n",
       "    <tr>\n",
       "      <th>7745</th>\n",
       "      <td>دسته گلی برای حسین شریعتمداری!</td>\n",
       "      <td>من حسین شریعتمداری را به عنوان فردی می شناسم ک...</td>\n",
       "      <td>سیاسی</td>\n",
       "      <td>113951</td>\n",
       "    </tr>\n",
       "  </tbody>\n",
       "</table>\n",
       "<p>7746 rows × 4 columns</p>\n",
       "</div>"
      ],
      "text/plain": [
       "                                                  title  \\\n",
       "0                      حضور طالب لو در سپاهان صحت ندارد   \n",
       "1                   نخستين پيروزي بسكتبال مهرام در آسیا   \n",
       "2              تبريک حزب الله لبنان بابت قهرماني سپاهان   \n",
       "3     علي دايي: مطمئن باشيد تيم فصل آينده با نظر من ...   \n",
       "4         چکیده مهمترین حوادث و اتفاقات شبانه روز گذشته   \n",
       "...                                                 ...   \n",
       "7741     برنامه كامل رقابت ورزشكاران ايراني در  سنگاپور   \n",
       "7742  نتایج هفته دوم لیگ برتر فوتسال؛ اولین پیروزی پ...   \n",
       "7743                 از تغییر خودسرانه دز دارو بپرهیزید   \n",
       "7744  داستان مترو تهران از خطبه آیت الله هاشمی تا نپ...   \n",
       "7745                     دسته گلی برای حسین شریعتمداری!   \n",
       "\n",
       "                                                   lead category  id_news  \n",
       "0     برخي رسانه ها امروز و در چند روز گذشته خبر از ...    ورزشی   100000  \n",
       "1     مهرامي ها در كوارترهاي اول و سوم را با نتايج (...    ورزشی   100001  \n",
       "2     محمد رضا ساکت نيز در نامه هاي جداگانه اي به سي...    ورزشی   100003  \n",
       "3     خب شما برويد از همان خبرگزاري بپرسيد. در كنفرا...    ورزشی   100004  \n",
       "4     مرد شرور با 7 نوچه اش تحت تعقيب پليس قرار گرفت...  اجتماعی   100006  \n",
       "...                                                 ...      ...      ...  \n",
       "7741  برنامه مسابقات ورزشكاران ايراني در اولين دوره ...    ورزشی   113945  \n",
       "7742  هفته دوم لیگ برتر فوتسال با انجام 6 بازی به پا...    ورزشی   113947  \n",
       "7743  وی تصریح کرد: ما گاهی اوقات شاهد هستیم که افرا...  اجتماعی   113949  \n",
       "7744  گرچه بارها دولت با فرافکنی مشکل مترو تهران را ...  اجتماعی   113950  \n",
       "7745  من حسین شریعتمداری را به عنوان فردی می شناسم ک...    سیاسی   113951  \n",
       "\n",
       "[7746 rows x 4 columns]"
      ]
     },
     "execution_count": 5,
     "metadata": {},
     "output_type": "execute_result"
    }
   ],
   "source": [
    "data"
   ]
  },
  {
   "cell_type": "code",
   "execution_count": 6,
   "id": "8f3e8278",
   "metadata": {},
   "outputs": [],
   "source": [
    "with open(\"stopwords.txt\", encoding='utf-8') as stopwords_file:\n",
    "    stopwords = stopwords_file.readlines()\n",
    "stopwords = [stopword.replace('\\n', '') for stopword in stopwords]"
   ]
  },
  {
   "cell_type": "code",
   "execution_count": 7,
   "id": "21f83ed6",
   "metadata": {},
   "outputs": [
    {
     "name": "stderr",
     "output_type": "stream",
     "text": [
      "[nltk_data] Downloading package stopwords to\n",
      "[nltk_data]     C:\\Users\\Mahdi_Ashkar\\AppData\\Roaming\\nltk_data...\n",
      "[nltk_data]   Package stopwords is already up-to-date!\n",
      "[nltk_data] Downloading package punkt to\n",
      "[nltk_data]     C:\\Users\\Mahdi_Ashkar\\AppData\\Roaming\\nltk_data...\n",
      "[nltk_data]   Package punkt is already up-to-date!\n"
     ]
    },
    {
     "data": {
      "text/plain": [
       "True"
      ]
     },
     "execution_count": 7,
     "metadata": {},
     "output_type": "execute_result"
    }
   ],
   "source": [
    "import nltk\n",
    "nltk.download('stopwords')"
   ]
  },
  {
   "cell_type": "code",
   "execution_count": 8,
   "id": "74fa68a3",
   "metadata": {},
   "outputs": [
    {
     "data": {
      "text/plain": [
       "1913"
      ]
     },
     "execution_count": 8,
     "metadata": {},
     "output_type": "execute_result"
    }
   ],
   "source": [
    "nltk_stopwords = nltk.corpus.stopwords.words('english')\n",
    "stopwords.extend(nltk_stopwords)\n",
    "len(stopwords)"
   ]
  },
  {
   "cell_type": "code",
   "execution_count": 33,
   "id": "5402f389",
   "metadata": {},
   "outputs": [],
   "source": [
    "import hazm\n",
    "stemmer = hazm.Stemmer()\n",
    "lem = hazm.Lemmatizer()"
   ]
  },
  {
   "cell_type": "code",
   "execution_count": 34,
   "id": "e027d12f",
   "metadata": {},
   "outputs": [],
   "source": [
    "from hazm import word_tokenize\n",
    "dataset = pd.DataFrame(columns=('title_lead', 'category'))\n",
    "for index, row in data.iterrows():\n",
    "    title_lead = row['title']+' '+row['lead']\n",
    "    title_lead_tokenized = word_tokenize(title_lead)\n",
    "    title_lead_filtered = [\n",
    "        w for w in title_lead_tokenized if not w in stopwords]\n",
    "    title_lead_filtered_stemmed = [\n",
    "        stemmer.stem(w) for w in title_lead_filtered]\n",
    "    title_lead_filtered_lemmatized = [\n",
    "        lem.lemmatize(w).replace('#', ' ') for w in title_lead_filtered_stemmed if not w in stopwords]\n",
    "    dataset.loc[index] = {\n",
    "        \"title_lead\": ' '.join(title_lead_filtered_stemmed)+' '+' '.join(title_lead_filtered_lemmatized),\n",
    "        'category': row['category']\n",
    "    }"
   ]
  },
  {
   "cell_type": "code",
   "execution_count": 13,
   "id": "bc4e4375",
   "metadata": {},
   "outputs": [],
   "source": [
    "# dataset.head()\n",
    "dataset.to_csv('clean_lemmatize_tabnak_news.csv')"
   ]
  },
  {
   "cell_type": "code",
   "execution_count": 11,
   "id": "edc400b4",
   "metadata": {},
   "outputs": [],
   "source": [
    "from sklearn.feature_extraction.text import TfidfVectorizer\n",
    "from sklearn.preprocessing import LabelEncoder"
   ]
  },
  {
   "cell_type": "code",
   "execution_count": 35,
   "id": "11bcb514",
   "metadata": {},
   "outputs": [],
   "source": [
    "vectorizer = TfidfVectorizer(ngram_range=(1, 2))\n",
    "vectorizer.fit(dataset['title_lead'])\n",
    "X = vectorizer.transform(dataset['title_lead'])"
   ]
  },
  {
   "cell_type": "code",
   "execution_count": 15,
   "id": "3701c683",
   "metadata": {},
   "outputs": [
    {
     "data": {
      "text/plain": [
       "array(['اجتماعی', 'اقتصادی', 'سیاسی', 'فرهنگی', 'ورزشی'], dtype=object)"
      ]
     },
     "execution_count": 15,
     "metadata": {},
     "output_type": "execute_result"
    }
   ],
   "source": [
    "le = LabelEncoder()\n",
    "y = le.fit_transform(dataset['category'])\n",
    "le.classes_"
   ]
  },
  {
   "cell_type": "code",
   "execution_count": 36,
   "id": "71a0d720",
   "metadata": {},
   "outputs": [
    {
     "data": {
      "text/plain": [
       "(7746, 214194)"
      ]
     },
     "execution_count": 36,
     "metadata": {},
     "output_type": "execute_result"
    }
   ],
   "source": [
    "import numpy as np\n",
    "np.shape(X)"
   ]
  },
  {
   "cell_type": "code",
   "execution_count": 17,
   "id": "a1190e2d",
   "metadata": {},
   "outputs": [],
   "source": [
    "from sklearn.model_selection import train_test_split"
   ]
  },
  {
   "cell_type": "code",
   "execution_count": 18,
   "id": "40fd32af",
   "metadata": {},
   "outputs": [],
   "source": [
    "from sklearn.naive_bayes import GaussianNB"
   ]
  },
  {
   "cell_type": "code",
   "execution_count": 19,
   "id": "5bdc443a",
   "metadata": {},
   "outputs": [
    {
     "name": "stdout",
     "output_type": "stream",
     "text": [
      "  (0, 266164)\t0.19610436762236033\n",
      "  (0, 266157)\t0.15903825879590025\n",
      "  (0, 261478)\t0.20508239952356405\n",
      "  (0, 261453)\t0.1430088488602719\n",
      "  (0, 207854)\t0.10254119976178203\n",
      "  (0, 207853)\t0.10254119976178203\n",
      "  (0, 207841)\t0.20508239952356405\n",
      "  (0, 207820)\t0.2786196904871708\n",
      "  (0, 191525)\t0.15523305568948154\n",
      "  (0, 191451)\t0.07115199387403509\n",
      "  (0, 189545)\t0.18075632071313907\n",
      "  (0, 189529)\t0.09696470813260812\n",
      "  (0, 175233)\t0.3272718481080206\n",
      "  (0, 175215)\t0.28216438998698584\n",
      "  (0, 172541)\t0.10254119976178203\n",
      "  (0, 172529)\t0.070852985039021\n",
      "  (0, 172268)\t0.10254119976178203\n",
      "  (0, 172255)\t0.070852985039021\n",
      "  (0, 159778)\t0.10254119976178203\n",
      "  (0, 159741)\t0.10254119976178203\n",
      "  (0, 159678)\t0.12006713025305173\n",
      "  (0, 159655)\t0.10254119976178203\n",
      "  (0, 159598)\t0.10254119976178203\n",
      "  (0, 159498)\t0.11165173427791251\n",
      "  (0, 134907)\t0.17734303139821198\n",
      "  :\t:\n",
      "  (7745, 123864)\t0.09503274493328115\n",
      "  (7745, 123829)\t0.05870039585141884\n",
      "  (7745, 122665)\t0.09503274493328115\n",
      "  (7745, 122664)\t0.08376032931795485\n",
      "  (7745, 122576)\t0.11462342622301772\n",
      "  (7745, 100212)\t0.36348972689715087\n",
      "  (7745, 100174)\t0.23193031646365062\n",
      "  (7745, 60491)\t0.09503274493328115\n",
      "  (7745, 60490)\t0.08563105694863371\n",
      "  (7745, 58943)\t0.09503274493328115\n",
      "  (7745, 58924)\t0.06724653892697458\n",
      "  (7745, 56756)\t0.052440606161720055\n",
      "  (7745, 56735)\t0.047231599220074916\n",
      "  (7745, 55382)\t0.04192236953099121\n",
      "  (7745, 53428)\t0.09503274493328115\n",
      "  (7745, 53425)\t0.08080854012061542\n",
      "  (7745, 46825)\t0.09503274493328115\n",
      "  (7745, 46667)\t0.04886202090531541\n",
      "  (7745, 46454)\t0.09503274493328115\n",
      "  (7745, 46233)\t0.0821786516430177\n",
      "  (7745, 46227)\t0.09503274493328115\n",
      "  (7745, 45836)\t0.10408493498674593\n",
      "  (7745, 45484)\t0.09503274493328115\n",
      "  (7745, 45296)\t0.09503274493328115\n",
      "  (7745, 45163)\t0.07318881388596944\n"
     ]
    }
   ],
   "source": [
    "print(X)"
   ]
  },
  {
   "cell_type": "code",
   "execution_count": 37,
   "id": "8dea6d6f",
   "metadata": {},
   "outputs": [],
   "source": [
    "X_train, X_test, y_train, y_test = train_test_split(X, y)"
   ]
  },
  {
   "cell_type": "code",
   "execution_count": 38,
   "id": "7fc9e598",
   "metadata": {},
   "outputs": [
    {
     "ename": "MemoryError",
     "evalue": "Unable to allocate 3.09 GiB for an array with shape (1937, 214194) and data type float64",
     "output_type": "error",
     "traceback": [
      "\u001b[1;31m---------------------------------------------------------------------------\u001b[0m",
      "\u001b[1;31mMemoryError\u001b[0m                               Traceback (most recent call last)",
      "Cell \u001b[1;32mIn[38], line 2\u001b[0m\n\u001b[0;32m      1\u001b[0m X_train \u001b[38;5;241m=\u001b[39m pd\u001b[38;5;241m.\u001b[39mDataFrame(X_train\u001b[38;5;241m.\u001b[39mtoarray())\n\u001b[1;32m----> 2\u001b[0m X_test \u001b[38;5;241m=\u001b[39m pd\u001b[38;5;241m.\u001b[39mDataFrame(\u001b[43mX_test\u001b[49m\u001b[38;5;241;43m.\u001b[39;49m\u001b[43mtoarray\u001b[49m\u001b[43m(\u001b[49m\u001b[43m)\u001b[49m)\n",
      "File \u001b[1;32mc:\\Users\\Mahdi_Ashkar\\AppData\\Local\\Programs\\Python\\Python311\\Lib\\site-packages\\scipy\\sparse\\_compressed.py:1050\u001b[0m, in \u001b[0;36m_cs_matrix.toarray\u001b[1;34m(self, order, out)\u001b[0m\n\u001b[0;32m   1048\u001b[0m \u001b[38;5;28;01mif\u001b[39;00m out \u001b[38;5;129;01mis\u001b[39;00m \u001b[38;5;28;01mNone\u001b[39;00m \u001b[38;5;129;01mand\u001b[39;00m order \u001b[38;5;129;01mis\u001b[39;00m \u001b[38;5;28;01mNone\u001b[39;00m:\n\u001b[0;32m   1049\u001b[0m     order \u001b[38;5;241m=\u001b[39m \u001b[38;5;28mself\u001b[39m\u001b[38;5;241m.\u001b[39m_swap(\u001b[38;5;124m'\u001b[39m\u001b[38;5;124mcf\u001b[39m\u001b[38;5;124m'\u001b[39m)[\u001b[38;5;241m0\u001b[39m]\n\u001b[1;32m-> 1050\u001b[0m out \u001b[38;5;241m=\u001b[39m \u001b[38;5;28;43mself\u001b[39;49m\u001b[38;5;241;43m.\u001b[39;49m\u001b[43m_process_toarray_args\u001b[49m\u001b[43m(\u001b[49m\u001b[43morder\u001b[49m\u001b[43m,\u001b[49m\u001b[43m \u001b[49m\u001b[43mout\u001b[49m\u001b[43m)\u001b[49m\n\u001b[0;32m   1051\u001b[0m \u001b[38;5;28;01mif\u001b[39;00m \u001b[38;5;129;01mnot\u001b[39;00m (out\u001b[38;5;241m.\u001b[39mflags\u001b[38;5;241m.\u001b[39mc_contiguous \u001b[38;5;129;01mor\u001b[39;00m out\u001b[38;5;241m.\u001b[39mflags\u001b[38;5;241m.\u001b[39mf_contiguous):\n\u001b[0;32m   1052\u001b[0m     \u001b[38;5;28;01mraise\u001b[39;00m \u001b[38;5;167;01mValueError\u001b[39;00m(\u001b[38;5;124m'\u001b[39m\u001b[38;5;124mOutput array must be C or F contiguous\u001b[39m\u001b[38;5;124m'\u001b[39m)\n",
      "File \u001b[1;32mc:\\Users\\Mahdi_Ashkar\\AppData\\Local\\Programs\\Python\\Python311\\Lib\\site-packages\\scipy\\sparse\\_base.py:1267\u001b[0m, in \u001b[0;36m_spbase._process_toarray_args\u001b[1;34m(self, order, out)\u001b[0m\n\u001b[0;32m   1265\u001b[0m     \u001b[38;5;28;01mreturn\u001b[39;00m out\n\u001b[0;32m   1266\u001b[0m \u001b[38;5;28;01melse\u001b[39;00m:\n\u001b[1;32m-> 1267\u001b[0m     \u001b[38;5;28;01mreturn\u001b[39;00m \u001b[43mnp\u001b[49m\u001b[38;5;241;43m.\u001b[39;49m\u001b[43mzeros\u001b[49m\u001b[43m(\u001b[49m\u001b[38;5;28;43mself\u001b[39;49m\u001b[38;5;241;43m.\u001b[39;49m\u001b[43mshape\u001b[49m\u001b[43m,\u001b[49m\u001b[43m \u001b[49m\u001b[43mdtype\u001b[49m\u001b[38;5;241;43m=\u001b[39;49m\u001b[38;5;28;43mself\u001b[39;49m\u001b[38;5;241;43m.\u001b[39;49m\u001b[43mdtype\u001b[49m\u001b[43m,\u001b[49m\u001b[43m \u001b[49m\u001b[43morder\u001b[49m\u001b[38;5;241;43m=\u001b[39;49m\u001b[43morder\u001b[49m\u001b[43m)\u001b[49m\n",
      "\u001b[1;31mMemoryError\u001b[0m: Unable to allocate 3.09 GiB for an array with shape (1937, 214194) and data type float64"
     ]
    }
   ],
   "source": [
    "X_train = pd.DataFrame(X_train.toarray())\n",
    "X_test = pd.DataFrame(X_test.toarray())"
   ]
  },
  {
   "cell_type": "code",
   "execution_count": 22,
   "id": "e9b5c040",
   "metadata": {},
   "outputs": [
    {
     "ename": "MemoryError",
     "evalue": "Unable to allocate 13.0 GiB for an array with shape (5809, 299700) and data type float64",
     "output_type": "error",
     "traceback": [
      "\u001b[1;31m---------------------------------------------------------------------------\u001b[0m",
      "\u001b[1;31mMemoryError\u001b[0m                               Traceback (most recent call last)",
      "Cell \u001b[1;32mIn[22], line 2\u001b[0m\n\u001b[0;32m      1\u001b[0m model \u001b[38;5;241m=\u001b[39m GaussianNB()\n\u001b[1;32m----> 2\u001b[0m \u001b[43mmodel\u001b[49m\u001b[38;5;241;43m.\u001b[39;49m\u001b[43mfit\u001b[49m\u001b[43m(\u001b[49m\u001b[43mX_train\u001b[49m\u001b[43m,\u001b[49m\u001b[43m \u001b[49m\u001b[43my_train\u001b[49m\u001b[43m)\u001b[49m\n",
      "File \u001b[1;32mc:\\Users\\Mahdi_Ashkar\\AppData\\Local\\Programs\\Python\\Python311\\Lib\\site-packages\\sklearn\\base.py:1474\u001b[0m, in \u001b[0;36m_fit_context.<locals>.decorator.<locals>.wrapper\u001b[1;34m(estimator, *args, **kwargs)\u001b[0m\n\u001b[0;32m   1467\u001b[0m     estimator\u001b[38;5;241m.\u001b[39m_validate_params()\n\u001b[0;32m   1469\u001b[0m \u001b[38;5;28;01mwith\u001b[39;00m config_context(\n\u001b[0;32m   1470\u001b[0m     skip_parameter_validation\u001b[38;5;241m=\u001b[39m(\n\u001b[0;32m   1471\u001b[0m         prefer_skip_nested_validation \u001b[38;5;129;01mor\u001b[39;00m global_skip_validation\n\u001b[0;32m   1472\u001b[0m     )\n\u001b[0;32m   1473\u001b[0m ):\n\u001b[1;32m-> 1474\u001b[0m     \u001b[38;5;28;01mreturn\u001b[39;00m \u001b[43mfit_method\u001b[49m\u001b[43m(\u001b[49m\u001b[43mestimator\u001b[49m\u001b[43m,\u001b[49m\u001b[43m \u001b[49m\u001b[38;5;241;43m*\u001b[39;49m\u001b[43margs\u001b[49m\u001b[43m,\u001b[49m\u001b[43m \u001b[49m\u001b[38;5;241;43m*\u001b[39;49m\u001b[38;5;241;43m*\u001b[39;49m\u001b[43mkwargs\u001b[49m\u001b[43m)\u001b[49m\n",
      "File \u001b[1;32mc:\\Users\\Mahdi_Ashkar\\AppData\\Local\\Programs\\Python\\Python311\\Lib\\site-packages\\sklearn\\naive_bayes.py:263\u001b[0m, in \u001b[0;36mGaussianNB.fit\u001b[1;34m(self, X, y, sample_weight)\u001b[0m\n\u001b[0;32m    240\u001b[0m \u001b[38;5;250m\u001b[39m\u001b[38;5;124;03m\"\"\"Fit Gaussian Naive Bayes according to X, y.\u001b[39;00m\n\u001b[0;32m    241\u001b[0m \n\u001b[0;32m    242\u001b[0m \u001b[38;5;124;03mParameters\u001b[39;00m\n\u001b[1;32m   (...)\u001b[0m\n\u001b[0;32m    260\u001b[0m \u001b[38;5;124;03m    Returns the instance itself.\u001b[39;00m\n\u001b[0;32m    261\u001b[0m \u001b[38;5;124;03m\"\"\"\u001b[39;00m\n\u001b[0;32m    262\u001b[0m y \u001b[38;5;241m=\u001b[39m \u001b[38;5;28mself\u001b[39m\u001b[38;5;241m.\u001b[39m_validate_data(y\u001b[38;5;241m=\u001b[39my)\n\u001b[1;32m--> 263\u001b[0m \u001b[38;5;28;01mreturn\u001b[39;00m \u001b[38;5;28;43mself\u001b[39;49m\u001b[38;5;241;43m.\u001b[39;49m\u001b[43m_partial_fit\u001b[49m\u001b[43m(\u001b[49m\n\u001b[0;32m    264\u001b[0m \u001b[43m    \u001b[49m\u001b[43mX\u001b[49m\u001b[43m,\u001b[49m\u001b[43m \u001b[49m\u001b[43my\u001b[49m\u001b[43m,\u001b[49m\u001b[43m \u001b[49m\u001b[43mnp\u001b[49m\u001b[38;5;241;43m.\u001b[39;49m\u001b[43munique\u001b[49m\u001b[43m(\u001b[49m\u001b[43my\u001b[49m\u001b[43m)\u001b[49m\u001b[43m,\u001b[49m\u001b[43m \u001b[49m\u001b[43m_refit\u001b[49m\u001b[38;5;241;43m=\u001b[39;49m\u001b[38;5;28;43;01mTrue\u001b[39;49;00m\u001b[43m,\u001b[49m\u001b[43m \u001b[49m\u001b[43msample_weight\u001b[49m\u001b[38;5;241;43m=\u001b[39;49m\u001b[43msample_weight\u001b[49m\n\u001b[0;32m    265\u001b[0m \u001b[43m\u001b[49m\u001b[43m)\u001b[49m\n",
      "File \u001b[1;32mc:\\Users\\Mahdi_Ashkar\\AppData\\Local\\Programs\\Python\\Python311\\Lib\\site-packages\\sklearn\\naive_bayes.py:431\u001b[0m, in \u001b[0;36mGaussianNB._partial_fit\u001b[1;34m(self, X, y, classes, _refit, sample_weight)\u001b[0m\n\u001b[0;32m    425\u001b[0m     sample_weight \u001b[38;5;241m=\u001b[39m _check_sample_weight(sample_weight, X)\n\u001b[0;32m    427\u001b[0m \u001b[38;5;66;03m# If the ratio of data variance between dimensions is too small, it\u001b[39;00m\n\u001b[0;32m    428\u001b[0m \u001b[38;5;66;03m# will cause numerical errors. To address this, we artificially\u001b[39;00m\n\u001b[0;32m    429\u001b[0m \u001b[38;5;66;03m# boost the variance by epsilon, a small fraction of the standard\u001b[39;00m\n\u001b[0;32m    430\u001b[0m \u001b[38;5;66;03m# deviation of the largest dimension.\u001b[39;00m\n\u001b[1;32m--> 431\u001b[0m \u001b[38;5;28mself\u001b[39m\u001b[38;5;241m.\u001b[39mepsilon_ \u001b[38;5;241m=\u001b[39m \u001b[38;5;28mself\u001b[39m\u001b[38;5;241m.\u001b[39mvar_smoothing \u001b[38;5;241m*\u001b[39m \u001b[43mnp\u001b[49m\u001b[38;5;241;43m.\u001b[39;49m\u001b[43mvar\u001b[49m\u001b[43m(\u001b[49m\u001b[43mX\u001b[49m\u001b[43m,\u001b[49m\u001b[43m \u001b[49m\u001b[43maxis\u001b[49m\u001b[38;5;241;43m=\u001b[39;49m\u001b[38;5;241;43m0\u001b[39;49m\u001b[43m)\u001b[49m\u001b[38;5;241m.\u001b[39mmax()\n\u001b[0;32m    433\u001b[0m \u001b[38;5;28;01mif\u001b[39;00m first_call:\n\u001b[0;32m    434\u001b[0m     \u001b[38;5;66;03m# This is the first call to partial_fit:\u001b[39;00m\n\u001b[0;32m    435\u001b[0m     \u001b[38;5;66;03m# initialize various cumulative counters\u001b[39;00m\n\u001b[0;32m    436\u001b[0m     n_features \u001b[38;5;241m=\u001b[39m X\u001b[38;5;241m.\u001b[39mshape[\u001b[38;5;241m1\u001b[39m]\n",
      "File \u001b[1;32m<__array_function__ internals>:200\u001b[0m, in \u001b[0;36mvar\u001b[1;34m(*args, **kwargs)\u001b[0m\n",
      "File \u001b[1;32mc:\\Users\\Mahdi_Ashkar\\AppData\\Local\\Programs\\Python\\Python311\\Lib\\site-packages\\numpy\\core\\fromnumeric.py:3747\u001b[0m, in \u001b[0;36mvar\u001b[1;34m(a, axis, dtype, out, ddof, keepdims, where)\u001b[0m\n\u001b[0;32m   3744\u001b[0m     \u001b[38;5;28;01melse\u001b[39;00m:\n\u001b[0;32m   3745\u001b[0m         \u001b[38;5;28;01mreturn\u001b[39;00m var(axis\u001b[38;5;241m=\u001b[39maxis, dtype\u001b[38;5;241m=\u001b[39mdtype, out\u001b[38;5;241m=\u001b[39mout, ddof\u001b[38;5;241m=\u001b[39mddof, \u001b[38;5;241m*\u001b[39m\u001b[38;5;241m*\u001b[39mkwargs)\n\u001b[1;32m-> 3747\u001b[0m \u001b[38;5;28;01mreturn\u001b[39;00m \u001b[43m_methods\u001b[49m\u001b[38;5;241;43m.\u001b[39;49m\u001b[43m_var\u001b[49m\u001b[43m(\u001b[49m\u001b[43ma\u001b[49m\u001b[43m,\u001b[49m\u001b[43m \u001b[49m\u001b[43maxis\u001b[49m\u001b[38;5;241;43m=\u001b[39;49m\u001b[43maxis\u001b[49m\u001b[43m,\u001b[49m\u001b[43m \u001b[49m\u001b[43mdtype\u001b[49m\u001b[38;5;241;43m=\u001b[39;49m\u001b[43mdtype\u001b[49m\u001b[43m,\u001b[49m\u001b[43m \u001b[49m\u001b[43mout\u001b[49m\u001b[38;5;241;43m=\u001b[39;49m\u001b[43mout\u001b[49m\u001b[43m,\u001b[49m\u001b[43m \u001b[49m\u001b[43mddof\u001b[49m\u001b[38;5;241;43m=\u001b[39;49m\u001b[43mddof\u001b[49m\u001b[43m,\u001b[49m\n\u001b[0;32m   3748\u001b[0m \u001b[43m                     \u001b[49m\u001b[38;5;241;43m*\u001b[39;49m\u001b[38;5;241;43m*\u001b[39;49m\u001b[43mkwargs\u001b[49m\u001b[43m)\u001b[49m\n",
      "File \u001b[1;32mc:\\Users\\Mahdi_Ashkar\\AppData\\Local\\Programs\\Python\\Python311\\Lib\\site-packages\\numpy\\core\\_methods.py:236\u001b[0m, in \u001b[0;36m_var\u001b[1;34m(a, axis, dtype, out, ddof, keepdims, where)\u001b[0m\n\u001b[0;32m    231\u001b[0m     arrmean \u001b[38;5;241m=\u001b[39m arrmean \u001b[38;5;241m/\u001b[39m rcount\n\u001b[0;32m    233\u001b[0m \u001b[38;5;66;03m# Compute sum of squared deviations from mean\u001b[39;00m\n\u001b[0;32m    234\u001b[0m \u001b[38;5;66;03m# Note that x may not be inexact and that we need it to be an array,\u001b[39;00m\n\u001b[0;32m    235\u001b[0m \u001b[38;5;66;03m# not a scalar.\u001b[39;00m\n\u001b[1;32m--> 236\u001b[0m x \u001b[38;5;241m=\u001b[39m asanyarray(\u001b[43marr\u001b[49m\u001b[43m \u001b[49m\u001b[38;5;241;43m-\u001b[39;49m\u001b[43m \u001b[49m\u001b[43marrmean\u001b[49m)\n\u001b[0;32m    238\u001b[0m \u001b[38;5;28;01mif\u001b[39;00m \u001b[38;5;28missubclass\u001b[39m(arr\u001b[38;5;241m.\u001b[39mdtype\u001b[38;5;241m.\u001b[39mtype, (nt\u001b[38;5;241m.\u001b[39mfloating, nt\u001b[38;5;241m.\u001b[39minteger)):\n\u001b[0;32m    239\u001b[0m     x \u001b[38;5;241m=\u001b[39m um\u001b[38;5;241m.\u001b[39mmultiply(x, x, out\u001b[38;5;241m=\u001b[39mx)\n",
      "\u001b[1;31mMemoryError\u001b[0m: Unable to allocate 13.0 GiB for an array with shape (5809, 299700) and data type float64"
     ]
    }
   ],
   "source": [
    "model = GaussianNB()\n",
    "model.fit(X_train, y_train)"
   ]
  },
  {
   "cell_type": "code",
   "execution_count": 21,
   "id": "da75c14d",
   "metadata": {},
   "outputs": [],
   "source": [
    "from sklearn.metrics import classification_report, confusion_matrix"
   ]
  },
  {
   "cell_type": "code",
   "execution_count": 22,
   "id": "e35a3936",
   "metadata": {},
   "outputs": [],
   "source": [
    "from sklearn.metrics import accuracy_score"
   ]
  },
  {
   "cell_type": "code",
   "execution_count": 23,
   "id": "688db47e",
   "metadata": {},
   "outputs": [],
   "source": [
    "# y_pred_train = model.predict(X_train)\n",
    "# y_pred_test = model.predict(X_test)"
   ]
  },
  {
   "cell_type": "code",
   "execution_count": 24,
   "id": "7d00c5e9",
   "metadata": {},
   "outputs": [
    {
     "name": "stdout",
     "output_type": "stream",
     "text": [
      "              precision    recall  f1-score   support\n",
      "\n",
      "           0       0.62      0.69      0.66       555\n",
      "           1       0.42      0.09      0.15        86\n",
      "           2       0.53      0.57      0.54       380\n",
      "           3       0.34      0.18      0.24       190\n",
      "           4       0.79      0.86      0.82       726\n",
      "\n",
      "    accuracy                           0.65      1937\n",
      "   macro avg       0.54      0.48      0.48      1937\n",
      "weighted avg       0.63      0.65      0.63      1937\n",
      "\n"
     ]
    }
   ],
   "source": [
    "y_pred = model.predict(X_test)\n",
    "print(classification_report(y_test, y_pred))"
   ]
  },
  {
   "cell_type": "code",
   "execution_count": 25,
   "id": "c88cc806",
   "metadata": {},
   "outputs": [
    {
     "data": {
      "text/plain": [
       "array([[384,   7,  85,  18,  61],\n",
       "       [ 44,   8,  15,   6,  13],\n",
       "       [ 82,   4, 215,  26,  53],\n",
       "       [ 51,   0,  65,  35,  39],\n",
       "       [ 55,   0,  29,  17, 625]], dtype=int64)"
      ]
     },
     "execution_count": 25,
     "metadata": {},
     "output_type": "execute_result"
    }
   ],
   "source": [
    "confusion_matrix(y_test, y_pred)"
   ]
  },
  {
   "cell_type": "markdown",
   "metadata": {},
   "source": [
    "##4:\"ورزشی\"\n",
    "\n",
    "##3:\"فرهنگی\"\n",
    "\n",
    "##2:\"سیاسی\"\n",
    "\n",
    "##1:\"اقتصادی\"\n",
    "\n",
    "##0:'اجتماعی'\n"
   ]
  },
  {
   "cell_type": "code",
   "execution_count": null,
   "id": "6eeee5bc",
   "metadata": {},
   "outputs": [],
   "source": []
  }
 ],
 "metadata": {
  "kernelspec": {
   "display_name": "Python 3 (ipykernel)",
   "language": "python",
   "name": "python3"
  },
  "language_info": {
   "codemirror_mode": {
    "name": "ipython",
    "version": 3
   },
   "file_extension": ".py",
   "mimetype": "text/x-python",
   "name": "python",
   "nbconvert_exporter": "python",
   "pygments_lexer": "ipython3",
   "version": "3.11.3"
  }
 },
 "nbformat": 4,
 "nbformat_minor": 5
}
